{
  "cells": [
    {
      "cell_type": "code",
      "execution_count": 1,
      "metadata": {
        "id": "prOLdqWkm1XL"
      },
      "outputs": [],
      "source": [
        "# importowanie stats z modułu scipy - korzystasz z funkcji statystycznych dostępnych w bibliotece SciPy\n",
        "from scipy import stats"
      ]
    },
    {
      "cell_type": "markdown",
      "metadata": {
        "id": "O2BGJRoeuZlZ"
      },
      "source": [
        "# Zadanie 3 - Test dla wartości oczekiwanej pojedynczej prób"
      ]
    },
    {
      "cell_type": "markdown",
      "metadata": {
        "id": "J6MyxtzhRA8Z"
      },
      "source": [
        "Wytrzymałość na ciśnienie wewnętrzne jest ważną charakterystyką jakościową szkła butelek.\n",
        "\n",
        "\n",
        "Pewna rozlewnia chce zamówić butelki, których średnia wytrzymałość przewyższa 1.20 N/mm2.\n",
        "\n",
        "\n",
        "Pobrano próbę losową 20 butelek, które następnie umieszczono w maszynie hydrostatycznej,\n",
        "zwiększając ciśnienie aż do zniszczenia butelki i otrzymano następujące wyniki (w N/mm2\n",
        "):\n",
        "\n",
        "1.36, 1.14, 1.27, 1.15, 1.20, 1.29, 1.27, 1.18, 1.23, 1.36, 1.38, 1.37, 1.30, 1.21, 1.33, 1.28, 1.32,\n",
        "1.29, 1.33, 1.25.\n",
        "\n",
        "\n",
        "Zbadaj, czy na poziomie istotności równym 0,05 można przyjąć założenie o jego normalności\n",
        "rozkładu?\n"
      ]
    },
    {
      "cell_type": "markdown",
      "metadata": {
        "id": "bGfHgWn8QvK4"
      },
      "source": [
        "## 1. Sformułowanie hipotez\n"
      ]
    },
    {
      "cell_type": "markdown",
      "metadata": {
        "id": "rYCJLA39uobj"
      },
      "source": [
        "H0: Rozklad jest normalny\n",
        "\n",
        "\n",
        "H1: Rozklad nie jest normalny\n"
      ]
    },
    {
      "cell_type": "markdown",
      "metadata": {
        "id": "iI4rtZKNROMM"
      },
      "source": [
        "## 2. Wybór testu statystycznego\n",
        "- Test nieparametryczny\n",
        "- Pojedyncza próba\n",
        "- Skala ilorazowa\n",
        "\n",
        "->  Test Shapiro-wilka"
      ]
    },
    {
      "cell_type": "markdown",
      "metadata": {
        "id": "PsIVscMbRkHk"
      },
      "source": [
        "## 3. Poziom istotności  \n",
        "α=0,05\n"
      ]
    },
    {
      "cell_type": "markdown",
      "metadata": {
        "id": "g43SXNcLRrT2"
      },
      "source": [
        "## 4. Obliczenie statystyki testowej i p-value oraz podjęcie decyzji weryfikacyjnej"
      ]
    },
    {
      "cell_type": "code",
      "execution_count": 3,
      "metadata": {
        "colab": {
          "base_uri": "https://localhost:8080/"
        },
        "id": "jIgsGlOtubUY",
        "outputId": "e2ca84ad-0092-4e6c-dd02-c5866701f240"
      },
      "outputs": [
        {
          "name": "stdout",
          "output_type": "stream",
          "text": [
            "Wartość p:  0.44210907987875553\n",
            "Nie ma podstaw do odrzucenia hipotezy zerowej - dane pochodzą z rozkładu normalnego.\n"
          ]
        }
      ],
      "source": [
        "# Wagi netto próbki\n",
        "butelki = [1.36, 1.14, 1.27, 1.15, 1.20, 1.29, 1.27, 1.18, 1.23, 1.36, 1.38, 1.37, 1.30, 1.21, 1.33, 1.28, 1.32,\n",
        "1.29, 1.33, 1.25]\n",
        "\n",
        "#Test shapiro-wilka\n",
        "statystyka, p_wartosc = stats.shapiro(butelki)\n",
        "print(\"Wartość p: \", p_wartosc)\n",
        "if p_wartosc > 0.05:\n",
        "    print(\"Nie ma podstaw do odrzucenia hipotezy zerowej - dane pochodzą z rozkładu normalnego.\")\n",
        "else:\n",
        "    print(\"Odrzucamy hipotezę zerową - dane nie pochodzą z rozkładu normalnego.\")\n"
      ]
    },
    {
      "cell_type": "markdown",
      "metadata": {
        "id": "iIhOFZNZR__1"
      },
      "source": [
        "Z otrzymanego wydruku możemy odczytać p-wartość = 0.44210907987875553. \\\n",
        "Ponieważ: p>α, odrzucamy hipoteze zerowa. Nie ma podstaw do odrzucenia hipotezy zerowej - dane pochodzą z rozkładu normalnego.\n"
      ]
    },
    {
      "cell_type": "markdown",
      "metadata": {
        "id": "jgzGegucSGXy"
      },
      "source": [
        "## 5. Wnioski:\n",
        "Dane pochodzą z rozkładu normalnego.\n",
        "\n",
        "\n"
      ]
    }
  ],
  "metadata": {
    "colab": {
      "provenance": [],
      "toc_visible": true
    },
    "kernelspec": {
      "display_name": "Python 3",
      "name": "python3"
    },
    "language_info": {
      "codemirror_mode": {
        "name": "ipython",
        "version": 3
      },
      "file_extension": ".py",
      "mimetype": "text/x-python",
      "name": "python",
      "nbconvert_exporter": "python",
      "pygments_lexer": "ipython3",
      "version": "3.12.1"
    }
  },
  "nbformat": 4,
  "nbformat_minor": 0
}
