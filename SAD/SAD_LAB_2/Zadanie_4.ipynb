{
  "cells": [
    {
      "cell_type": "code",
      "execution_count": 5,
      "metadata": {
        "id": "prOLdqWkm1XL"
      },
      "outputs": [],
      "source": [
        "# importowanie stats z modułu scipy - korzystasz z funkcji statystycznych dostępnych w bibliotece SciPy\n",
        "from scipy import stats"
      ]
    },
    {
      "cell_type": "markdown",
      "metadata": {
        "id": "BiYS5GZUdnpI"
      },
      "source": [
        "# Zadanie 4 - Test dla wartości oczekiwanej dwóch prób zależnych"
      ]
    },
    {
      "cell_type": "markdown",
      "metadata": {
        "id": "mxWdphpsdnpJ"
      },
      "source": [
        "Dane przedstawiają emisję zanieczyszczeń powietrza pyłami polimerów (w t) pochodzącymi\n",
        "z kilku zakładów szczególnie uciążliwych dla wybranego województwa:\n",
        "\n",
        " w roku I oraz\n",
        "5 lat później, w roku II.\n",
        "\n",
        "\n",
        "Rok I 220 185 270 285 200 295 255 190 225 230\n",
        "\n",
        "\n",
        "Rok II 190 175 215 260 215 195 260 150 155 175\n",
        "\n",
        "\n",
        "Na poziomie istotności 0,05 należy zweryfikować hipotezę, że nastąpił istotny spadek emisji\n",
        "pyłów w tych zakładach.\n"
      ]
    },
    {
      "cell_type": "markdown",
      "metadata": {
        "id": "fiELNUZpdnpK"
      },
      "source": [
        "## 1. Sformułowanie hipotez\n"
      ]
    },
    {
      "cell_type": "markdown",
      "metadata": {
        "id": "2YSSrRVUdnpK"
      },
      "source": [
        "H0: (μ_1  =μ_2): nie ma istotnej roznicy w spadku emisji pylow\n",
        "\n",
        "\n",
        "H1: (μ_1>μ_2): w roku II znacznie spadla emisja pylow\n"
      ]
    },
    {
      "cell_type": "markdown",
      "metadata": {
        "id": "DxRO1xCBdnpK"
      },
      "source": [
        "## 2. Wybór testu statystycznego\n",
        "- Test parametryczny - wartość przeciętna\n",
        "- Podwójna próba\n",
        "- Skala ilorazowa\n",
        "\n",
        "-> Test T"
      ]
    },
    {
      "cell_type": "markdown",
      "metadata": {
        "id": "joMo96_GdnpL"
      },
      "source": [
        "## 3. Poziom istotności  \n",
        "α=0,05\n"
      ]
    },
    {
      "cell_type": "markdown",
      "metadata": {
        "id": "gxXX0fQIdnpL"
      },
      "source": [
        "## 4. Obliczenie statystyki testowej i p-value oraz podjęcie decyzji weryfikacyjnej"
      ]
    },
    {
      "cell_type": "code",
      "execution_count": 6,
      "metadata": {
        "colab": {
          "base_uri": "https://localhost:8080/"
        },
        "id": "TX0LTrSYdnpL",
        "outputId": "aebb78dc-3683-4cdf-f633-8e4f0979681c"
      },
      "outputs": [
        {
          "name": "stdout",
          "output_type": "stream",
          "text": [
            "Statystyka t: 3.286273677873095\n",
            "Wartość p: 0.004717146628580168\n",
            "\n",
            "Na podstawie tej próby można stwierdzić, że emisja pylow w drugim roku była mniejsza niż w pierwszym.\n"
          ]
        }
      ],
      "source": [
        "# Wyniki przed badaniem\n",
        "rok_i = [220, 185 ,270, 285, 200, 295, 255, 190, 225, 230]\n",
        "\n",
        "# Wyniki po badaniu\n",
        "rok_ii = [190, 175, 215, 260, 215, 195, 260, 150, 155, 175]\n",
        "\n",
        "# Poziom istotności\n",
        "alpha = 0.05\n",
        "\n",
        "# Przeprowadzenie testu t dla dwóch powiązanych próbek\n",
        "t_statistic, p_value = stats.ttest_rel(rok_i, rok_ii, alternative='greater')\n",
        "\n",
        "# Wyświetlenie wyników testu\n",
        "print(\"Statystyka t:\", t_statistic)\n",
        "print(\"Wartość p:\", p_value)\n",
        "\n",
        "\n",
        "# Sprawdzenie warunku na istotność statystyczną\n",
        "if p_value < alpha:\n",
        "    print(\"\\nNa podstawie tej próby można stwierdzić, że emisja pylow w drugim roku była mniejsza niż w pierwszym.\")\n",
        "else:\n",
        "    print(\"\\nNie ma wystarczających dowodów na to, aby stwierdzić, że emisja pylow w drugim roku była mniejsza niż w pierwszym.\")\n"
      ]
    },
    {
      "cell_type": "markdown",
      "metadata": {
        "id": "MDkjnlEmdnpM"
      },
      "source": [
        "Z otrzymanego wydruku możemy odczytać m.in.  wartość statystyki testowej (t = 3.286273677873095) oraz  p-wartość = 0.004717146628580168. \\\n",
        "Ponieważ: p<α, zatem nie ma podstaw do odrzucenia hipotezy zerowej. \n",
        "\n",
        "Na podstawie tej próby można stwierdzić, że emisja pylow w drugim roku była mniejsza niż w pierwszym.\n"
      ]
    },
    {
      "cell_type": "markdown",
      "metadata": {
        "id": "1fqJP14pdnpM"
      },
      "source": [
        "## 5. Wnioski:\n",
        "Na podstawie tej próby można stwierdzić, że emisja pylow w drugim roku była mniejsza niż w pierwszym.\n"
      ]
    },
    {
      "cell_type": "markdown",
      "metadata": {
        "id": "m7nRZfu-tQKq"
      },
      "source": []
    }
  ],
  "metadata": {
    "colab": {
      "provenance": [],
      "toc_visible": true
    },
    "kernelspec": {
      "display_name": "Python 3",
      "name": "python3"
    },
    "language_info": {
      "codemirror_mode": {
        "name": "ipython",
        "version": 3
      },
      "file_extension": ".py",
      "mimetype": "text/x-python",
      "name": "python",
      "nbconvert_exporter": "python",
      "pygments_lexer": "ipython3",
      "version": "3.12.1"
    }
  },
  "nbformat": 4,
  "nbformat_minor": 0
}
