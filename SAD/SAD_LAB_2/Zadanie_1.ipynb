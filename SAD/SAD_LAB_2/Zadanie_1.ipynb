{
  "cells": [
    {
      "cell_type": "code",
      "execution_count": 3,
      "metadata": {
        "id": "prOLdqWkm1XL"
      },
      "outputs": [],
      "source": [
        "# importowanie stats z modułu scipy - korzystasz z funkcji statystycznych dostępnych w bibliotece SciPy\n",
        "from scipy import stats"
      ]
    },
    {
      "cell_type": "markdown",
      "metadata": {
        "id": "O2BGJRoeuZlZ"
      },
      "source": [
        "# Zadanie 1 - Test dla wartości oczekiwanej pojedynczej prób"
      ]
    },
    {
      "cell_type": "markdown",
      "metadata": {
        "id": "J6MyxtzhRA8Z"
      },
      "source": [
        "Zmierzono czas pracy (w godzinach) piętnastu wylosowanych bateryjek radiowych i\n",
        "otrzymano następujące wyniki:\n",
        "\n",
        " 35,34; 36,26; 30,54; 38,2; 37,59; 39,18; 33,16; 34,23;\n",
        "27,9; 36,33; 32,39; 34,89; 35,7; 31,99; 34,03.\n",
        "\n",
        "\n",
        "Zakładając, że czas pracy bateryjek ma rozkład normalny sprawdź na poziomie istotności 0,05\n",
        "czy przeciętny czas pracy jest równy 35?\n"
      ]
    },
    {
      "cell_type": "markdown",
      "metadata": {
        "id": "bGfHgWn8QvK4"
      },
      "source": [
        "## 1. Sformułowanie hipotez\n"
      ]
    },
    {
      "cell_type": "markdown",
      "metadata": {
        "id": "rYCJLA39uobj"
      },
      "source": [
        "H0: μ=35 (przeciętny czas dzialania baterii jest rowny 35h)\\\n",
        "H1: μ≠35 (przeciętny czas dzialania baterii nie jest rowny 35h)\n"
      ]
    },
    {
      "cell_type": "markdown",
      "metadata": {
        "id": "iI4rtZKNROMM"
      },
      "source": [
        "## 2. Wybór testu statystycznego\n",
        "- Test parametryczny - wartość przeciętna\n",
        "- Pojedyncza próba\n",
        "- Skala ilorazowa\n",
        "\n",
        "-> Test T"
      ]
    },
    {
      "cell_type": "markdown",
      "metadata": {
        "id": "PsIVscMbRkHk"
      },
      "source": [
        "## 3. Poziom istotności  \n",
        "α=0,05\n"
      ]
    },
    {
      "cell_type": "markdown",
      "metadata": {
        "id": "g43SXNcLRrT2"
      },
      "source": [
        "## 4. Obliczenie statystyki testowej i p-value oraz podjęcie decyzji weryfikacyjnej"
      ]
    },
    {
      "cell_type": "code",
      "execution_count": 4,
      "metadata": {
        "colab": {
          "base_uri": "https://localhost:8080/"
        },
        "id": "jIgsGlOtubUY",
        "outputId": "e2ca84ad-0092-4e6c-dd02-c5866701f240"
      },
      "outputs": [
        {
          "name": "stdout",
          "output_type": "stream",
          "text": [
            "Statystyka testowa: -0.625790453948021\n",
            "P-wartość: 0.5415206438042331\n",
            "Nie ma podstaw do odrzucenia hipotezy zerowej - średni czas jest równy 35 sekund.\n"
          ]
        }
      ],
      "source": [
        "# Wagi netto próbki\n",
        "czas = [ 35.34, 36.26, 30.54, 38.2, 37.59, 39.18, 33.16, 34.23, 27.9, 36.33, 32.39, 34.89, 35.7, 31.99, 34.03]\n",
        "\n",
        "# Wartość oczekiwana\n",
        "mu = 35\n",
        "\n",
        "# Przeprowadź test t-studenta\n",
        "statystyka_T, p_wartosc = stats.ttest_1samp(czas, mu)\n",
        "\n",
        "# Wyświetl wyniki\n",
        "print(\"Statystyka testowa:\", statystyka_T)\n",
        "print(\"P-wartość:\", p_wartosc)\n",
        "\n",
        "# Sprawdź istotność statystyczną na poziomie alfa = 0.05\n",
        "alfa = 0.05\n",
        "if p_wartosc < alfa:\n",
        "    print(\"Odrzucamy hipotezę zerową - średni czas jest różny od 35 sekund.\")\n",
        "else:\n",
        "    print(\"Nie ma podstaw do odrzucenia hipotezy zerowej - średni czas jest równy 35 sekund.\")"
      ]
    },
    {
      "cell_type": "markdown",
      "metadata": {
        "id": "iIhOFZNZR__1"
      },
      "source": [
        "Z otrzymanego wydruku możemy odczytać m.in.  wartość statystyki testowej (t = -0.625790453948021) oraz  p-wartość = 0.5415206438042331. \\\n",
        "Ponieważ: p>α, zatem nie ma podstaw do odrzucenia hipotezy zerowej. Oznacza to, że średni czas dzialania baterii nie rozni sie znacznie od 35h\n"
      ]
    },
    {
      "cell_type": "markdown",
      "metadata": {
        "id": "jgzGegucSGXy"
      },
      "source": [
        "## 5. Wnioski:\n",
        "Oznacza to, że średni czas dzialania baterii nie rozni sie znacznie od 35h\n",
        "\n",
        "Należy pamiętać, że można popełnić tu błąd II rodzaju polegający na nieodrzuceniu hipotezy zerowej, chociaż jest fałszywa.\n"
      ]
    }
  ],
  "metadata": {
    "colab": {
      "provenance": [],
      "toc_visible": true
    },
    "kernelspec": {
      "display_name": "Python 3",
      "name": "python3"
    },
    "language_info": {
      "codemirror_mode": {
        "name": "ipython",
        "version": 3
      },
      "file_extension": ".py",
      "mimetype": "text/x-python",
      "name": "python",
      "nbconvert_exporter": "python",
      "pygments_lexer": "ipython3",
      "version": "3.12.1"
    }
  },
  "nbformat": 4,
  "nbformat_minor": 0
}
