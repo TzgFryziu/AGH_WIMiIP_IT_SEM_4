{
  "cells": [
    {
      "cell_type": "code",
      "execution_count": 1,
      "metadata": {
        "id": "prOLdqWkm1XL"
      },
      "outputs": [],
      "source": [
        "# importowanie stats z modułu scipy - korzystasz z funkcji statystycznych dostępnych w bibliotece SciPy\n",
        "from scipy import stats"
      ]
    },
    {
      "cell_type": "markdown",
      "metadata": {
        "id": "O2BGJRoeuZlZ"
      },
      "source": [
        "# Zadanie 2 - Test dla wartości oczekiwanej pojedynczej prób"
      ]
    },
    {
      "cell_type": "markdown",
      "metadata": {
        "id": "J6MyxtzhRA8Z"
      },
      "source": [
        "W celu zmniejszenia zużycia paliwa Komisja Doradcza Przewozów Morskich zleciła\n",
        "kompaniom dalekomorskim zredukowanie prędkości statków do 17 węzłów.\n",
        "\n",
        "Jedna z kompanii, której statki pływają z reguły z prędkością od 18,5 do 19,8 węzłów przy dziennym\n",
        "średnim zużyciu paliwa w wysokości 127,7 t, sprawdziła rejestr rejsów i odnalazła 5 takich\n",
        "rejsów, dla których średnia prędkość wynosiła zaledwie 17 węzłów. \n",
        "\n",
        "Dzienne zużycie paliwa w czasie tych rejsów wynosiło: \n",
        "\n",
        "101,1; 105,7; 102,6; 113,4; 98,1 t. \n",
        "\n",
        "Zakładając, że dzienne zużycie paliwa ma rozkład normalny, czy dane te potwierdzają słuszność Komisji, że obniżenie\n",
        "prędkości do 17 węzłów zmniejszy zużycie paliwa poniżej 127,7, przy poziomie istotności\n",
        "0,01?\n"
      ]
    },
    {
      "cell_type": "markdown",
      "metadata": {
        "id": "bGfHgWn8QvK4"
      },
      "source": [
        "## 1. Sformułowanie hipotez\n"
      ]
    },
    {
      "cell_type": "markdown",
      "metadata": {
        "id": "rYCJLA39uobj"
      },
      "source": [
        "H0: μ = 127,7 (przeciętne zuzycie paliwa nie zmieni sie)\\\n",
        "H1: μ < 127,7 (przeciętne zuzycie paliwa zmniejszy sie)\n"
      ]
    },
    {
      "cell_type": "markdown",
      "metadata": {
        "id": "iI4rtZKNROMM"
      },
      "source": [
        "## 2. Wybór testu statystycznego\n",
        "- Test parametryczny - wartość przeciętna\n",
        "- Pojedyncza próba\n",
        "- Skala ilorazowa\n",
        "\n",
        "-> Test T"
      ]
    },
    {
      "cell_type": "markdown",
      "metadata": {
        "id": "PsIVscMbRkHk"
      },
      "source": [
        "## 3. Poziom istotności  \n",
        "α=0,01\n"
      ]
    },
    {
      "cell_type": "markdown",
      "metadata": {
        "id": "g43SXNcLRrT2"
      },
      "source": [
        "## 4. Obliczenie statystyki testowej i p-value oraz podjęcie decyzji weryfikacyjnej"
      ]
    },
    {
      "cell_type": "code",
      "execution_count": 5,
      "metadata": {
        "colab": {
          "base_uri": "https://localhost:8080/"
        },
        "id": "jIgsGlOtubUY",
        "outputId": "e2ca84ad-0092-4e6c-dd02-c5866701f240"
      },
      "outputs": [
        {
          "name": "stdout",
          "output_type": "stream",
          "text": [
            "Statystyka testowa: -9.010634513141104\n",
            "P-wartość: 0.00042000583374171395\n",
            "Odrzucamy hipotezę zerową - średnie zużycie paliwa jest mniejsze niż 127.7 litra.\n"
          ]
        }
      ],
      "source": [
        "# Wagi netto próbki\n",
        "zuzycie_paliwa = [101.1, 105.7, 102.6, 113.4, 98.1]\n",
        "\n",
        "# Wartość oczekiwana\n",
        "mu = 127.7\n",
        "\n",
        "# Przeprowadź test t-studenta\n",
        "statystyka_T, p_wartosc = stats.ttest_1samp(zuzycie_paliwa, mu, alternative=\"less\")\n",
        "\n",
        "# Wyświetl wyniki\n",
        "print(\"Statystyka testowa:\", statystyka_T)\n",
        "print(\"P-wartość:\", p_wartosc)\n",
        "\n",
        "# Sprawdź istotność statystyczną na poziomie alfa = 0.05\n",
        "alfa = 0.01\n",
        "if p_wartosc < alfa:\n",
        "    print(\"Odrzucamy hipotezę zerową - średnie zużycie paliwa jest mniejsze niż 127.7 litra.\")\n",
        "else:\n",
        "    print(\"Nie ma podstaw do odrzucenia hipotezy zerowej - średnie zużycie paliwa jest większe lub rowne 127.7 litra.\")"
      ]
    },
    {
      "cell_type": "markdown",
      "metadata": {
        "id": "iIhOFZNZR__1"
      },
      "source": [
        "Z otrzymanego wydruku możemy odczytać m.in.  wartość statystyki testowej (t = -9.010634513141104) oraz  p-wartość = 0.00042000583374171395. \\\n",
        "Ponieważ: p<α, odrzucamy hipoteze zerowa. Srednie zuzycie paliwa jest znacznie mniejsze niz 127.7 litra.\n"
      ]
    },
    {
      "cell_type": "markdown",
      "metadata": {
        "id": "jgzGegucSGXy"
      },
      "source": [
        "## 5. Wnioski:\n",
        "Srednie zuzycie paliwa jest znacznie mniejsze niz 127.7 litra\n",
        "\n"
      ]
    }
  ],
  "metadata": {
    "colab": {
      "provenance": [],
      "toc_visible": true
    },
    "kernelspec": {
      "display_name": "Python 3",
      "name": "python3"
    },
    "language_info": {
      "codemirror_mode": {
        "name": "ipython",
        "version": 3
      },
      "file_extension": ".py",
      "mimetype": "text/x-python",
      "name": "python",
      "nbconvert_exporter": "python",
      "pygments_lexer": "ipython3",
      "version": "3.12.1"
    }
  },
  "nbformat": 4,
  "nbformat_minor": 0
}
