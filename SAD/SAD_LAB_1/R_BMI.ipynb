{
 "cells": [
  {
   "cell_type": "code",
   "execution_count": 4,
   "metadata": {
    "vscode": {
     "languageId": "r"
    }
   },
   "outputs": [
    {
     "name": "stdout",
     "output_type": "stream",
     "text": [
      "   Waga Wzrost\n",
      "1    50    180\n",
      "2    70    180\n",
      "3    80    180\n",
      "4    90    180\n",
      "5   100    180\n",
      "6   110    180\n",
      "7   120    180\n",
      "8   130    180\n",
      "9   140    180\n",
      "10  150    180\n"
     ]
    }
   ],
   "source": [
    "waga = c(50, 70, 80, 90, 100, 110, 120, 130, 140, 150)\n",
    "wzrost = c(180,180,180,180,180,180,180,180,180,180)\n",
    "\n",
    "df = data.frame(Waga = waga, Wzrost = wzrost)\n",
    "\n",
    "print(df)"
   ]
  },
  {
   "cell_type": "code",
   "execution_count": 5,
   "metadata": {
    "vscode": {
     "languageId": "r"
    }
   },
   "outputs": [
    {
     "name": "stdout",
     "output_type": "stream",
     "text": [
      "   Waga Wzrost      BMI\n",
      "1    50    180 15.43210\n",
      "2    70    180 21.60494\n",
      "3    80    180 24.69136\n",
      "4    90    180 27.77778\n",
      "5   100    180 30.86420\n",
      "6   110    180 33.95062\n",
      "7   120    180 37.03704\n",
      "8   130    180 40.12346\n",
      "9   140    180 43.20988\n",
      "10  150    180 46.29630\n"
     ]
    }
   ],
   "source": [
    "df$BMI = waga/(wzrost*wzrost)*10000\n",
    "print(df)"
   ]
  },
  {
   "cell_type": "code",
   "execution_count": 6,
   "metadata": {
    "vscode": {
     "languageId": "r"
    }
   },
   "outputs": [
    {
     "name": "stdout",
     "output_type": "stream",
     "text": [
      "   Waga Wzrost      BMI             KOD\n",
      "1    50    180 15.43210       Niedowaga\n",
      "2    70    180 21.60494 Waga prawidłowa\n",
      "3    80    180 24.69136 Waga prawidłowa\n",
      "4    90    180 27.77778         Nadwaga\n",
      "5   100    180 30.86420         Nadwaga\n",
      "6   110    180 33.95062         Nadwaga\n",
      "7   120    180 37.03704         Nadwaga\n",
      "8   130    180 40.12346 Otylosc skrajna\n",
      "9   140    180 43.20988 Otylosc skrajna\n",
      "10  150    180 46.29630 Otylosc skrajna\n"
     ]
    }
   ],
   "source": [
    "df$KOD <- ifelse(df$BMI < 18.5, \"Niedowaga\", ifelse(df$BMI < 25, \"Waga prawidłowa\", ifelse(df$BMI < 40,\"Nadwaga\",\"Otylosc skrajna\")))\n",
    "print(df)"
   ]
  }
 ],
 "metadata": {
  "kernelspec": {
   "display_name": "R",
   "language": "R",
   "name": "ir"
  },
  "language_info": {
   "codemirror_mode": "r",
   "file_extension": ".r",
   "mimetype": "text/x-r-source",
   "name": "R",
   "pygments_lexer": "r",
   "version": "4.3.3"
  }
 },
 "nbformat": 4,
 "nbformat_minor": 2
}
