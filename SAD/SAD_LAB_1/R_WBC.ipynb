{
  "cells": [
    {
      "cell_type": "markdown",
      "metadata": {
        "id": "_jBf_f6FZyPi"
      },
      "source": [
        "# Ramka danych - wiek i wzrost"
      ]
    },
    {
      "cell_type": "code",
      "execution_count": null,
      "metadata": {
        "colab": {
          "base_uri": "https://localhost:8080/"
        },
        "id": "0Lsg-QWyWpY0",
        "outputId": "42416c5e-e246-4f2a-879f-e8034741b8dd",
        "vscode": {
          "languageId": "r"
        }
      },
      "outputs": [
        {
          "name": "stdout",
          "output_type": "stream",
          "text": [
            "  Waga Wzrost\n",
            "1   50    170\n",
            "2   70    180\n",
            "3   68    165\n",
            "4  200    175\n"
          ]
        }
      ],
      "source": [
        "# Utwórz wektory zawierające dane dla poszczególnych zmiennych\n",
        "waga = c(50, 70, 68, 200)\n",
        "wzrost = c(170, 180, 165, 175)\n",
        "\n",
        "# Utwórz ramkę danych za pomocą funkcji data.frame()\n",
        "df = data.frame(Waga = waga, Wzrost = wzrost)\n",
        "\n",
        "# Wyświetl utworzoną ramkę danych\n",
        "print(df)\n"
      ]
    },
    {
      "cell_type": "markdown",
      "metadata": {
        "id": "XJKhctt2Z47j"
      },
      "source": [
        "## Obliczanie WBC"
      ]
    },
    {
      "cell_type": "code",
      "execution_count": null,
      "metadata": {
        "colab": {
          "base_uri": "https://localhost:8080/"
        },
        "id": "bDRYzdfuXxZ7",
        "outputId": "568f32c8-2a00-43a8-ebd7-2e8db0f2536e",
        "vscode": {
          "languageId": "r"
        }
      },
      "outputs": [
        {
          "name": "stdout",
          "output_type": "stream",
          "text": [
            "  Waga Wzrost  WBC\n",
            "1   50    170   20\n",
            "2   70    180   10\n",
            "3   68    165   -3\n",
            "4  200    175 -125\n"
          ]
        }
      ],
      "source": [
        "# Dodaj nową kolumnę do ramki danych\n",
        "df$WBC = df$Wzrost - df$Waga - 100\n",
        "\n",
        "# Wyświetl zaktualizowaną ramkę danych\n",
        "print(df)\n"
      ]
    },
    {
      "cell_type": "markdown",
      "metadata": {
        "id": "KaxrBLmaaSet"
      },
      "source": [
        "## Kodowanie WBC"
      ]
    },
    {
      "cell_type": "code",
      "execution_count": null,
      "metadata": {
        "colab": {
          "base_uri": "https://localhost:8080/"
        },
        "id": "Aa_b9CWoYLNi",
        "outputId": "1a3d6cad-70cb-400a-882d-5b8d2cd2d93a",
        "vscode": {
          "languageId": "r"
        }
      },
      "outputs": [
        {
          "name": "stdout",
          "output_type": "stream",
          "text": [
            "  Waga Wzrost  WBC             KOD\n",
            "1   50    170   20       Niedowaga\n",
            "2   70    180   10 Waga prawidłowa\n",
            "3   68    165   -3 Waga prawidłowa\n",
            "4  200    175 -125         Nadwaga\n"
          ]
        }
      ],
      "source": [
        "# Dodaj nową kolumnę do ramki danych\n",
        "df$KOD <- ifelse(df$WBC <= -10, \"Nadwaga\", ifelse(df$WBC <= 10, \"Waga prawidłowa\", \"Niedowaga\"))\n",
        "\n",
        "# Wyświetl zaktualizowaną ramkę danych\n",
        "print(df)\n"
      ]
    }
  ],
  "metadata": {
    "colab": {
      "provenance": []
    },
    "kernelspec": {
      "display_name": "R",
      "language": "R",
      "name": "ir"
    },
    "language_info": {
      "name": "R",
      "version": "3.12.1"
    }
  },
  "nbformat": 4,
  "nbformat_minor": 0
}
