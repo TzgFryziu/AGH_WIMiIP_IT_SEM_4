{
  "cells": [
    {
      "cell_type": "markdown",
      "metadata": {
        "id": "9Squfd7LbG4K"
      },
      "source": [
        "## Importowanie biblioteki"
      ]
    },
    {
      "cell_type": "code",
      "execution_count": 7,
      "metadata": {
        "id": "GSqEPkSTbGUN"
      },
      "outputs": [],
      "source": [
        "import pandas as pd"
      ]
    },
    {
      "cell_type": "markdown",
      "metadata": {
        "id": "vZhjOYHJbOQd"
      },
      "source": [
        "## Utworzenie ramki danych z danycmi waga i wzrost"
      ]
    },
    {
      "cell_type": "code",
      "execution_count": 8,
      "metadata": {
        "colab": {
          "base_uri": "https://localhost:8080/",
          "height": 173
        },
        "id": "CmBtK0DUao_B",
        "outputId": "2f681d9f-7804-42de-91dc-c562df9f1d4a"
      },
      "outputs": [
        {
          "data": {
            "text/html": [
              "<div>\n",
              "<style scoped>\n",
              "    .dataframe tbody tr th:only-of-type {\n",
              "        vertical-align: middle;\n",
              "    }\n",
              "\n",
              "    .dataframe tbody tr th {\n",
              "        vertical-align: top;\n",
              "    }\n",
              "\n",
              "    .dataframe thead th {\n",
              "        text-align: right;\n",
              "    }\n",
              "</style>\n",
              "<table border=\"1\" class=\"dataframe\">\n",
              "  <thead>\n",
              "    <tr style=\"text-align: right;\">\n",
              "      <th></th>\n",
              "      <th>Waga</th>\n",
              "      <th>Wzrost</th>\n",
              "    </tr>\n",
              "  </thead>\n",
              "  <tbody>\n",
              "    <tr>\n",
              "      <th>0</th>\n",
              "      <td>50</td>\n",
              "      <td>170</td>\n",
              "    </tr>\n",
              "    <tr>\n",
              "      <th>1</th>\n",
              "      <td>70</td>\n",
              "      <td>180</td>\n",
              "    </tr>\n",
              "    <tr>\n",
              "      <th>2</th>\n",
              "      <td>68</td>\n",
              "      <td>165</td>\n",
              "    </tr>\n",
              "    <tr>\n",
              "      <th>3</th>\n",
              "      <td>200</td>\n",
              "      <td>180</td>\n",
              "    </tr>\n",
              "  </tbody>\n",
              "</table>\n",
              "</div>"
            ],
            "text/plain": [
              "   Waga  Wzrost\n",
              "0    50     170\n",
              "1    70     180\n",
              "2    68     165\n",
              "3   200     180"
            ]
          },
          "execution_count": 8,
          "metadata": {},
          "output_type": "execute_result"
        }
      ],
      "source": [
        "\n",
        "# Tablice z danymi\n",
        "waga = [50, 70, 68, 200]\n",
        "wzrost = [170, 180, 165, 180]\n",
        "\n",
        "# Utwórz ramkę danych\n",
        "dane = pd.DataFrame({'Waga': waga, 'Wzrost': wzrost})\n",
        "\n",
        "# Wyświetl ramkę danych\n",
        "dane\n"
      ]
    },
    {
      "cell_type": "markdown",
      "metadata": {
        "id": "bGK29il3bxT5"
      },
      "source": [
        "## Obliczanie WBC"
      ]
    },
    {
      "cell_type": "code",
      "execution_count": 9,
      "metadata": {
        "colab": {
          "base_uri": "https://localhost:8080/",
          "height": 173
        },
        "id": "b3XjE0C1bzDv",
        "outputId": "e16c315f-8bda-4fd2-c77e-59c53f5399bc"
      },
      "outputs": [
        {
          "data": {
            "text/html": [
              "<div>\n",
              "<style scoped>\n",
              "    .dataframe tbody tr th:only-of-type {\n",
              "        vertical-align: middle;\n",
              "    }\n",
              "\n",
              "    .dataframe tbody tr th {\n",
              "        vertical-align: top;\n",
              "    }\n",
              "\n",
              "    .dataframe thead th {\n",
              "        text-align: right;\n",
              "    }\n",
              "</style>\n",
              "<table border=\"1\" class=\"dataframe\">\n",
              "  <thead>\n",
              "    <tr style=\"text-align: right;\">\n",
              "      <th></th>\n",
              "      <th>Waga</th>\n",
              "      <th>Wzrost</th>\n",
              "      <th>WBC</th>\n",
              "    </tr>\n",
              "  </thead>\n",
              "  <tbody>\n",
              "    <tr>\n",
              "      <th>0</th>\n",
              "      <td>50</td>\n",
              "      <td>170</td>\n",
              "      <td>20</td>\n",
              "    </tr>\n",
              "    <tr>\n",
              "      <th>1</th>\n",
              "      <td>70</td>\n",
              "      <td>180</td>\n",
              "      <td>10</td>\n",
              "    </tr>\n",
              "    <tr>\n",
              "      <th>2</th>\n",
              "      <td>68</td>\n",
              "      <td>165</td>\n",
              "      <td>-3</td>\n",
              "    </tr>\n",
              "    <tr>\n",
              "      <th>3</th>\n",
              "      <td>200</td>\n",
              "      <td>180</td>\n",
              "      <td>-120</td>\n",
              "    </tr>\n",
              "  </tbody>\n",
              "</table>\n",
              "</div>"
            ],
            "text/plain": [
              "   Waga  Wzrost  WBC\n",
              "0    50     170   20\n",
              "1    70     180   10\n",
              "2    68     165   -3\n",
              "3   200     180 -120"
            ]
          },
          "execution_count": 9,
          "metadata": {},
          "output_type": "execute_result"
        }
      ],
      "source": [
        "# Dodaj kolumnę WBC\n",
        "dane['WBC'] = dane['Wzrost'] - dane['Waga'] - 100\n",
        "dane"
      ]
    },
    {
      "cell_type": "markdown",
      "metadata": {
        "id": "6jSe4_Dfc80l"
      },
      "source": [
        "## Kodowanie WBC"
      ]
    },
    {
      "cell_type": "code",
      "execution_count": 10,
      "metadata": {
        "colab": {
          "base_uri": "https://localhost:8080/",
          "height": 173
        },
        "id": "GhjqKhUbdIoh",
        "outputId": "f5465028-9c3f-4e17-a2b3-b4267d2fb57b"
      },
      "outputs": [
        {
          "data": {
            "text/html": [
              "<div>\n",
              "<style scoped>\n",
              "    .dataframe tbody tr th:only-of-type {\n",
              "        vertical-align: middle;\n",
              "    }\n",
              "\n",
              "    .dataframe tbody tr th {\n",
              "        vertical-align: top;\n",
              "    }\n",
              "\n",
              "    .dataframe thead th {\n",
              "        text-align: right;\n",
              "    }\n",
              "</style>\n",
              "<table border=\"1\" class=\"dataframe\">\n",
              "  <thead>\n",
              "    <tr style=\"text-align: right;\">\n",
              "      <th></th>\n",
              "      <th>Waga</th>\n",
              "      <th>Wzrost</th>\n",
              "      <th>WBC</th>\n",
              "      <th>KOD</th>\n",
              "    </tr>\n",
              "  </thead>\n",
              "  <tbody>\n",
              "    <tr>\n",
              "      <th>0</th>\n",
              "      <td>50</td>\n",
              "      <td>170</td>\n",
              "      <td>20</td>\n",
              "      <td>Niedowaga</td>\n",
              "    </tr>\n",
              "    <tr>\n",
              "      <th>1</th>\n",
              "      <td>70</td>\n",
              "      <td>180</td>\n",
              "      <td>10</td>\n",
              "      <td>Waga prawidłowa</td>\n",
              "    </tr>\n",
              "    <tr>\n",
              "      <th>2</th>\n",
              "      <td>68</td>\n",
              "      <td>165</td>\n",
              "      <td>-3</td>\n",
              "      <td>Waga prawidłowa</td>\n",
              "    </tr>\n",
              "    <tr>\n",
              "      <th>3</th>\n",
              "      <td>200</td>\n",
              "      <td>180</td>\n",
              "      <td>-120</td>\n",
              "      <td>Nadwaga</td>\n",
              "    </tr>\n",
              "  </tbody>\n",
              "</table>\n",
              "</div>"
            ],
            "text/plain": [
              "   Waga  Wzrost  WBC              KOD\n",
              "0    50     170   20        Niedowaga\n",
              "1    70     180   10  Waga prawidłowa\n",
              "2    68     165   -3  Waga prawidłowa\n",
              "3   200     180 -120          Nadwaga"
            ]
          },
          "execution_count": 10,
          "metadata": {},
          "output_type": "execute_result"
        }
      ],
      "source": [
        "# Tworzę tablicę kod\n",
        "kod = []\n",
        "for wbc in dane['WBC']:\n",
        "    if wbc <= -10:\n",
        "        kod.append('Nadwaga')\n",
        "    elif wbc <= 10:\n",
        "        kod.append('Waga prawidłowa')\n",
        "    else:\n",
        "        kod.append('Niedowaga')\n",
        "\n",
        "# Funkcja append() w języku Python jest używana do dodawania nowych elementów do końca listy lub innej sekwencji (np. innego łańcucha, tupli, zbioru).\n",
        "\n",
        "# Ale można tez inaczej:\n",
        "#dane['Kod'] = ['Nadwaga' if wbc <= -10 else 'Waga prawidłowa' if -10 < wbc <= 10 else 'Niedowaga' for wbc in dane['WBC']]\n",
        "\n",
        "\n",
        "# Dodaje tablice \"kod\" do ramki danych\n",
        "dane['KOD']=kod\n",
        "\n",
        "#wyświetlam\n",
        "dane"
      ]
    },
    {
      "cell_type": "markdown",
      "metadata": {
        "id": "znpzAGlCmmws"
      },
      "source": [
        "## Testowanie hipotez"
      ]
    },
    {
      "cell_type": "code",
      "execution_count": null,
      "metadata": {
        "id": "4yHkKO5VmmPd"
      },
      "outputs": [],
      "source": []
    }
  ],
  "metadata": {
    "colab": {
      "provenance": []
    },
    "kernelspec": {
      "display_name": "Python 3",
      "name": "python3"
    },
    "language_info": {
      "codemirror_mode": {
        "name": "ipython",
        "version": 3
      },
      "file_extension": ".py",
      "mimetype": "text/x-python",
      "name": "python",
      "nbconvert_exporter": "python",
      "pygments_lexer": "ipython3",
      "version": "3.12.1"
    }
  },
  "nbformat": 4,
  "nbformat_minor": 0
}
