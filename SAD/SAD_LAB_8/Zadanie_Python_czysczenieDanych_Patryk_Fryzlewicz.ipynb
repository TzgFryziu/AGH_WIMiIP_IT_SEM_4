{
  "cells": [
    {
      "cell_type": "markdown",
      "metadata": {
        "id": "VArS_tciWdCd"
      },
      "source": [
        "## Zapisz kopię pliku na dysku iz mień jego nazwę *Python_czyszczenieDanych_ImieNazwisko.jpynb*"
      ]
    },
    {
      "cell_type": "markdown",
      "metadata": {
        "id": "DRZR9UXNWR-W"
      },
      "source": [
        "## Wczytaj biblioteki:\n",
        "- numpy\n",
        "- pandas"
      ]
    },
    {
      "cell_type": "code",
      "execution_count": 2,
      "metadata": {
        "id": "SdmjmVqNzU4m"
      },
      "outputs": [],
      "source": [
        "import pandas as pd\n",
        "import numpy as np"
      ]
    },
    {
      "cell_type": "markdown",
      "metadata": {
        "id": "EvR0vDFC0hs7"
      },
      "source": [
        "## Wczytaj plik \"flavors_of_cacao.csv\" i wyświetl 5 pierwszych wierszy"
      ]
    },
    {
      "cell_type": "code",
      "execution_count": 3,
      "metadata": {
        "id": "KtcoVL4lcIMl"
      },
      "outputs": [],
      "source": [
        "df = pd.read_csv('flavors_of_cacao.csv')\n",
        "poczatkowa_liczba_wierszy = df.shape[0]"
      ]
    },
    {
      "cell_type": "code",
      "execution_count": 4,
      "metadata": {
        "id": "PLsLkhWezgjq"
      },
      "outputs": [
        {
          "data": {
            "text/html": [
              "<div>\n",
              "<style scoped>\n",
              "    .dataframe tbody tr th:only-of-type {\n",
              "        vertical-align: middle;\n",
              "    }\n",
              "\n",
              "    .dataframe tbody tr th {\n",
              "        vertical-align: top;\n",
              "    }\n",
              "\n",
              "    .dataframe thead th {\n",
              "        text-align: right;\n",
              "    }\n",
              "</style>\n",
              "<table border=\"1\" class=\"dataframe\">\n",
              "  <thead>\n",
              "    <tr style=\"text-align: right;\">\n",
              "      <th></th>\n",
              "      <th>Company (Maker-if known)</th>\n",
              "      <th>Specific Bean Origin or Bar Name</th>\n",
              "      <th>REF</th>\n",
              "      <th>Review Date</th>\n",
              "      <th>Cocoa Percent</th>\n",
              "      <th>Company Location</th>\n",
              "      <th>Rating</th>\n",
              "      <th>Bean Type</th>\n",
              "      <th>Broad Bean Origin</th>\n",
              "    </tr>\n",
              "  </thead>\n",
              "  <tbody>\n",
              "    <tr>\n",
              "      <th>0</th>\n",
              "      <td>A. Morin</td>\n",
              "      <td>Agua Grande</td>\n",
              "      <td>1876</td>\n",
              "      <td>2016</td>\n",
              "      <td>63%</td>\n",
              "      <td>France</td>\n",
              "      <td>3.75</td>\n",
              "      <td></td>\n",
              "      <td>Sao Tome</td>\n",
              "    </tr>\n",
              "    <tr>\n",
              "      <th>1</th>\n",
              "      <td>A. Morin</td>\n",
              "      <td>Kpime</td>\n",
              "      <td>1676</td>\n",
              "      <td>2015</td>\n",
              "      <td>70%</td>\n",
              "      <td>France</td>\n",
              "      <td>2.75</td>\n",
              "      <td></td>\n",
              "      <td>Togo</td>\n",
              "    </tr>\n",
              "    <tr>\n",
              "      <th>2</th>\n",
              "      <td>A. Morin</td>\n",
              "      <td>Atsane</td>\n",
              "      <td>1676</td>\n",
              "      <td>2015</td>\n",
              "      <td>70%</td>\n",
              "      <td>France</td>\n",
              "      <td>3.00</td>\n",
              "      <td></td>\n",
              "      <td>Togo</td>\n",
              "    </tr>\n",
              "    <tr>\n",
              "      <th>3</th>\n",
              "      <td>A. Morin</td>\n",
              "      <td>Akata</td>\n",
              "      <td>1680</td>\n",
              "      <td>2015</td>\n",
              "      <td>70%</td>\n",
              "      <td>France</td>\n",
              "      <td>3.50</td>\n",
              "      <td></td>\n",
              "      <td>Togo</td>\n",
              "    </tr>\n",
              "    <tr>\n",
              "      <th>4</th>\n",
              "      <td>A. Morin</td>\n",
              "      <td>Quilla</td>\n",
              "      <td>1704</td>\n",
              "      <td>2015</td>\n",
              "      <td>70%</td>\n",
              "      <td>France</td>\n",
              "      <td>3.50</td>\n",
              "      <td></td>\n",
              "      <td>Peru</td>\n",
              "    </tr>\n",
              "  </tbody>\n",
              "</table>\n",
              "</div>"
            ],
            "text/plain": [
              "  Company (Maker-if known) Specific Bean Origin or Bar Name   REF  \\\n",
              "0                 A. Morin                      Agua Grande  1876   \n",
              "1                 A. Morin                            Kpime  1676   \n",
              "2                 A. Morin                           Atsane  1676   \n",
              "3                 A. Morin                            Akata  1680   \n",
              "4                 A. Morin                           Quilla  1704   \n",
              "\n",
              "   Review Date Cocoa Percent Company Location  Rating Bean Type  \\\n",
              "0         2016           63%           France    3.75             \n",
              "1         2015           70%           France    2.75             \n",
              "2         2015           70%           France    3.00             \n",
              "3         2015           70%           France    3.50             \n",
              "4         2015           70%           France    3.50             \n",
              "\n",
              "  Broad Bean Origin  \n",
              "0          Sao Tome  \n",
              "1              Togo  \n",
              "2              Togo  \n",
              "3              Togo  \n",
              "4              Peru  "
            ]
          },
          "execution_count": 4,
          "metadata": {},
          "output_type": "execute_result"
        }
      ],
      "source": [
        "df.head(5)"
      ]
    },
    {
      "cell_type": "markdown",
      "metadata": {
        "id": "iSZkE7v6DKwE"
      },
      "source": [
        "## Zmień nazwy kolumn na:\n",
        "'Company', 'Specific_Bean_Origin_or_Bar_Name', 'REF','Review_Date', 'Cocoa_Percentage', 'Company_Location','Rating', 'Bean_Type', 'Broad_Bean_Origin'\n",
        "###i wyświetl 3 pierwsze wiersze\n"
      ]
    },
    {
      "cell_type": "code",
      "execution_count": 5,
      "metadata": {
        "id": "wFE-W2IGDD2q"
      },
      "outputs": [
        {
          "data": {
            "text/html": [
              "<div>\n",
              "<style scoped>\n",
              "    .dataframe tbody tr th:only-of-type {\n",
              "        vertical-align: middle;\n",
              "    }\n",
              "\n",
              "    .dataframe tbody tr th {\n",
              "        vertical-align: top;\n",
              "    }\n",
              "\n",
              "    .dataframe thead th {\n",
              "        text-align: right;\n",
              "    }\n",
              "</style>\n",
              "<table border=\"1\" class=\"dataframe\">\n",
              "  <thead>\n",
              "    <tr style=\"text-align: right;\">\n",
              "      <th></th>\n",
              "      <th>Company</th>\n",
              "      <th>Specific_Bean_Origin_or_Bar_Name</th>\n",
              "      <th>REF</th>\n",
              "      <th>Review_Date</th>\n",
              "      <th>Cocoa_Percentage</th>\n",
              "      <th>Company_Location</th>\n",
              "      <th>Rating</th>\n",
              "      <th>Bean_Type</th>\n",
              "      <th>Broad_Bean_Origin</th>\n",
              "    </tr>\n",
              "  </thead>\n",
              "  <tbody>\n",
              "    <tr>\n",
              "      <th>0</th>\n",
              "      <td>A. Morin</td>\n",
              "      <td>Agua Grande</td>\n",
              "      <td>1876</td>\n",
              "      <td>2016</td>\n",
              "      <td>63%</td>\n",
              "      <td>France</td>\n",
              "      <td>3.75</td>\n",
              "      <td></td>\n",
              "      <td>Sao Tome</td>\n",
              "    </tr>\n",
              "    <tr>\n",
              "      <th>1</th>\n",
              "      <td>A. Morin</td>\n",
              "      <td>Kpime</td>\n",
              "      <td>1676</td>\n",
              "      <td>2015</td>\n",
              "      <td>70%</td>\n",
              "      <td>France</td>\n",
              "      <td>2.75</td>\n",
              "      <td></td>\n",
              "      <td>Togo</td>\n",
              "    </tr>\n",
              "    <tr>\n",
              "      <th>2</th>\n",
              "      <td>A. Morin</td>\n",
              "      <td>Atsane</td>\n",
              "      <td>1676</td>\n",
              "      <td>2015</td>\n",
              "      <td>70%</td>\n",
              "      <td>France</td>\n",
              "      <td>3.00</td>\n",
              "      <td></td>\n",
              "      <td>Togo</td>\n",
              "    </tr>\n",
              "  </tbody>\n",
              "</table>\n",
              "</div>"
            ],
            "text/plain": [
              "    Company Specific_Bean_Origin_or_Bar_Name   REF  Review_Date  \\\n",
              "0  A. Morin                      Agua Grande  1876         2016   \n",
              "1  A. Morin                            Kpime  1676         2015   \n",
              "2  A. Morin                           Atsane  1676         2015   \n",
              "\n",
              "  Cocoa_Percentage Company_Location  Rating Bean_Type Broad_Bean_Origin  \n",
              "0              63%           France    3.75                    Sao Tome  \n",
              "1              70%           France    2.75                        Togo  \n",
              "2              70%           France    3.00                        Togo  "
            ]
          },
          "execution_count": 5,
          "metadata": {},
          "output_type": "execute_result"
        }
      ],
      "source": [
        "df = df.rename(columns={'Company (Maker-if known)': 'Company',\n",
        "                        'Specific Bean Origin or Bar Name': 'Specific_Bean_Origin_or_Bar_Name',\n",
        "                        'REF': 'REF',\n",
        "                        'Review Date': 'Review_Date',\n",
        "                        'Cocoa Percent': 'Cocoa_Percentage',\n",
        "                        'Company Location': 'Company_Location',\n",
        "                        'Rating': 'Rating',\n",
        "                        'Bean Type': 'Bean_Type',\n",
        "                        'Broad Bean Origin': 'Broad_Bean_Origin'})\n",
        "\n",
        "df.head(3)\n"
      ]
    },
    {
      "cell_type": "markdown",
      "metadata": {
        "id": "AMZcFWfbZvxT"
      },
      "source": [
        "### Wyfiltruj 3 wiersz (komórkę) dla zmiennej *Review_Date*"
      ]
    },
    {
      "cell_type": "code",
      "execution_count": 6,
      "metadata": {
        "id": "wiUACq58bERI"
      },
      "outputs": [
        {
          "data": {
            "text/plain": [
              "Company                             A. Morin\n",
              "Specific_Bean_Origin_or_Bar_Name      Atsane\n",
              "REF                                     1676\n",
              "Review_Date                             2015\n",
              "Cocoa_Percentage                         70%\n",
              "Company_Location                      France\n",
              "Rating                                   3.0\n",
              "Bean_Type                                   \n",
              "Broad_Bean_Origin                       Togo\n",
              "Name: 2, dtype: object"
            ]
          },
          "execution_count": 6,
          "metadata": {},
          "output_type": "execute_result"
        }
      ],
      "source": [
        "filtered_df = df.iloc[2]\n",
        "filtered_df"
      ]
    },
    {
      "cell_type": "markdown",
      "metadata": {
        "id": "gYNv7FPeZ9yR"
      },
      "source": [
        "### Wyfiltruj komórki obejmujące kolumny od 2 do 4 i wiersze od 1 do 5."
      ]
    },
    {
      "cell_type": "code",
      "execution_count": 7,
      "metadata": {
        "id": "R9tJVaZDbFWg"
      },
      "outputs": [
        {
          "data": {
            "text/html": [
              "<div>\n",
              "<style scoped>\n",
              "    .dataframe tbody tr th:only-of-type {\n",
              "        vertical-align: middle;\n",
              "    }\n",
              "\n",
              "    .dataframe tbody tr th {\n",
              "        vertical-align: top;\n",
              "    }\n",
              "\n",
              "    .dataframe thead th {\n",
              "        text-align: right;\n",
              "    }\n",
              "</style>\n",
              "<table border=\"1\" class=\"dataframe\">\n",
              "  <thead>\n",
              "    <tr style=\"text-align: right;\">\n",
              "      <th></th>\n",
              "      <th>Specific_Bean_Origin_or_Bar_Name</th>\n",
              "      <th>REF</th>\n",
              "      <th>Review_Date</th>\n",
              "    </tr>\n",
              "  </thead>\n",
              "  <tbody>\n",
              "    <tr>\n",
              "      <th>1</th>\n",
              "      <td>Kpime</td>\n",
              "      <td>1676</td>\n",
              "      <td>2015</td>\n",
              "    </tr>\n",
              "    <tr>\n",
              "      <th>2</th>\n",
              "      <td>Atsane</td>\n",
              "      <td>1676</td>\n",
              "      <td>2015</td>\n",
              "    </tr>\n",
              "    <tr>\n",
              "      <th>3</th>\n",
              "      <td>Akata</td>\n",
              "      <td>1680</td>\n",
              "      <td>2015</td>\n",
              "    </tr>\n",
              "    <tr>\n",
              "      <th>4</th>\n",
              "      <td>Quilla</td>\n",
              "      <td>1704</td>\n",
              "      <td>2015</td>\n",
              "    </tr>\n",
              "    <tr>\n",
              "      <th>5</th>\n",
              "      <td>Carenero</td>\n",
              "      <td>1315</td>\n",
              "      <td>2014</td>\n",
              "    </tr>\n",
              "  </tbody>\n",
              "</table>\n",
              "</div>"
            ],
            "text/plain": [
              "  Specific_Bean_Origin_or_Bar_Name   REF  Review_Date\n",
              "1                            Kpime  1676         2015\n",
              "2                           Atsane  1676         2015\n",
              "3                            Akata  1680         2015\n",
              "4                           Quilla  1704         2015\n",
              "5                         Carenero  1315         2014"
            ]
          },
          "execution_count": 7,
          "metadata": {},
          "output_type": "execute_result"
        }
      ],
      "source": [
        "filtered_df = df.iloc[1:6, 1:4]\n",
        "filtered_df\n"
      ]
    },
    {
      "cell_type": "markdown",
      "metadata": {
        "id": "RN_ApCUO2Mqb"
      },
      "source": [
        "### Wyświtl \"kształt\" zbioru - liczba wierszy i kolumn"
      ]
    },
    {
      "cell_type": "code",
      "execution_count": 8,
      "metadata": {
        "id": "58Y-LQvEDXYY"
      },
      "outputs": [
        {
          "data": {
            "text/plain": [
              "(1795, 9)"
            ]
          },
          "execution_count": 8,
          "metadata": {},
          "output_type": "execute_result"
        }
      ],
      "source": [
        "df.shape\n"
      ]
    },
    {
      "cell_type": "markdown",
      "metadata": {
        "id": "TiFgtOg51-MS"
      },
      "source": [
        "### Wyświetl informcje o zbiorze danych\n",
        "### Czy wyświetlają się onformacje o \"brakach\" w zmiennej *Bean_Type* widocznych po użyciu funkcji head?\n",
        "### Dlaczego zmienna *Cocoa_Percentage* jest typu object?"
      ]
    },
    {
      "cell_type": "code",
      "execution_count": null,
      "metadata": {
        "id": "cpWx_aJhDhE0"
      },
      "outputs": [],
      "source": []
    },
    {
      "cell_type": "markdown",
      "metadata": {
        "id": "Lq5YSs8T2XWU"
      },
      "source": [
        "### Usuń znak \"%\" w zmiennej *Cocoa_Percentage* - ustaw odpowiednio typ danej i wyświetl 3 pierwsze wiersze\n"
      ]
    },
    {
      "cell_type": "code",
      "execution_count": 9,
      "metadata": {
        "id": "eSphrSfLEiwL"
      },
      "outputs": [
        {
          "data": {
            "text/html": [
              "<div>\n",
              "<style scoped>\n",
              "    .dataframe tbody tr th:only-of-type {\n",
              "        vertical-align: middle;\n",
              "    }\n",
              "\n",
              "    .dataframe tbody tr th {\n",
              "        vertical-align: top;\n",
              "    }\n",
              "\n",
              "    .dataframe thead th {\n",
              "        text-align: right;\n",
              "    }\n",
              "</style>\n",
              "<table border=\"1\" class=\"dataframe\">\n",
              "  <thead>\n",
              "    <tr style=\"text-align: right;\">\n",
              "      <th></th>\n",
              "      <th>Company</th>\n",
              "      <th>Specific_Bean_Origin_or_Bar_Name</th>\n",
              "      <th>REF</th>\n",
              "      <th>Review_Date</th>\n",
              "      <th>Cocoa_Percentage</th>\n",
              "      <th>Company_Location</th>\n",
              "      <th>Rating</th>\n",
              "      <th>Bean_Type</th>\n",
              "      <th>Broad_Bean_Origin</th>\n",
              "    </tr>\n",
              "  </thead>\n",
              "  <tbody>\n",
              "    <tr>\n",
              "      <th>0</th>\n",
              "      <td>A. Morin</td>\n",
              "      <td>Agua Grande</td>\n",
              "      <td>1876</td>\n",
              "      <td>2016</td>\n",
              "      <td>63.0</td>\n",
              "      <td>France</td>\n",
              "      <td>3.75</td>\n",
              "      <td></td>\n",
              "      <td>Sao Tome</td>\n",
              "    </tr>\n",
              "    <tr>\n",
              "      <th>1</th>\n",
              "      <td>A. Morin</td>\n",
              "      <td>Kpime</td>\n",
              "      <td>1676</td>\n",
              "      <td>2015</td>\n",
              "      <td>70.0</td>\n",
              "      <td>France</td>\n",
              "      <td>2.75</td>\n",
              "      <td></td>\n",
              "      <td>Togo</td>\n",
              "    </tr>\n",
              "    <tr>\n",
              "      <th>2</th>\n",
              "      <td>A. Morin</td>\n",
              "      <td>Atsane</td>\n",
              "      <td>1676</td>\n",
              "      <td>2015</td>\n",
              "      <td>70.0</td>\n",
              "      <td>France</td>\n",
              "      <td>3.00</td>\n",
              "      <td></td>\n",
              "      <td>Togo</td>\n",
              "    </tr>\n",
              "  </tbody>\n",
              "</table>\n",
              "</div>"
            ],
            "text/plain": [
              "    Company Specific_Bean_Origin_or_Bar_Name   REF  Review_Date  \\\n",
              "0  A. Morin                      Agua Grande  1876         2016   \n",
              "1  A. Morin                            Kpime  1676         2015   \n",
              "2  A. Morin                           Atsane  1676         2015   \n",
              "\n",
              "   Cocoa_Percentage Company_Location  Rating Bean_Type Broad_Bean_Origin  \n",
              "0              63.0           France    3.75                    Sao Tome  \n",
              "1              70.0           France    2.75                        Togo  \n",
              "2              70.0           France    3.00                        Togo  "
            ]
          },
          "execution_count": 9,
          "metadata": {},
          "output_type": "execute_result"
        }
      ],
      "source": [
        "df['Cocoa_Percentage'] = df['Cocoa_Percentage'].str.replace('%', '').astype(float)\n",
        "df.head(3)\n"
      ]
    },
    {
      "cell_type": "markdown",
      "metadata": {
        "id": "SZy4gKV4FFPD"
      },
      "source": [
        "### Wyfiltruj w zmiennych *Bean_Type* i *Broad_Bean_Origin* \"niewidoczne braki danych\" i zamień je na NA"
      ]
    },
    {
      "cell_type": "code",
      "execution_count": 10,
      "metadata": {
        "id": "EwNJ_RWgFEu8"
      },
      "outputs": [],
      "source": [
        "df['Bean_Type'] = df['Bean_Type'].replace(' ', 'NA')\n",
        "df['Broad_Bean_Origin'] = df['Broad_Bean_Origin'].replace(' ', 'NA')\n"
      ]
    },
    {
      "cell_type": "code",
      "execution_count": 11,
      "metadata": {
        "id": "yNmov-ZiGSrG"
      },
      "outputs": [
        {
          "data": {
            "text/html": [
              "<div>\n",
              "<style scoped>\n",
              "    .dataframe tbody tr th:only-of-type {\n",
              "        vertical-align: middle;\n",
              "    }\n",
              "\n",
              "    .dataframe tbody tr th {\n",
              "        vertical-align: top;\n",
              "    }\n",
              "\n",
              "    .dataframe thead th {\n",
              "        text-align: right;\n",
              "    }\n",
              "</style>\n",
              "<table border=\"1\" class=\"dataframe\">\n",
              "  <thead>\n",
              "    <tr style=\"text-align: right;\">\n",
              "      <th></th>\n",
              "      <th>Company</th>\n",
              "      <th>Specific_Bean_Origin_or_Bar_Name</th>\n",
              "      <th>REF</th>\n",
              "      <th>Review_Date</th>\n",
              "      <th>Cocoa_Percentage</th>\n",
              "      <th>Company_Location</th>\n",
              "      <th>Rating</th>\n",
              "      <th>Bean_Type</th>\n",
              "      <th>Broad_Bean_Origin</th>\n",
              "    </tr>\n",
              "  </thead>\n",
              "  <tbody>\n",
              "    <tr>\n",
              "      <th>0</th>\n",
              "      <td>A. Morin</td>\n",
              "      <td>Agua Grande</td>\n",
              "      <td>1876</td>\n",
              "      <td>2016</td>\n",
              "      <td>63.0</td>\n",
              "      <td>France</td>\n",
              "      <td>3.75</td>\n",
              "      <td>NA</td>\n",
              "      <td>Sao Tome</td>\n",
              "    </tr>\n",
              "    <tr>\n",
              "      <th>1</th>\n",
              "      <td>A. Morin</td>\n",
              "      <td>Kpime</td>\n",
              "      <td>1676</td>\n",
              "      <td>2015</td>\n",
              "      <td>70.0</td>\n",
              "      <td>France</td>\n",
              "      <td>2.75</td>\n",
              "      <td>NA</td>\n",
              "      <td>Togo</td>\n",
              "    </tr>\n",
              "    <tr>\n",
              "      <th>2</th>\n",
              "      <td>A. Morin</td>\n",
              "      <td>Atsane</td>\n",
              "      <td>1676</td>\n",
              "      <td>2015</td>\n",
              "      <td>70.0</td>\n",
              "      <td>France</td>\n",
              "      <td>3.00</td>\n",
              "      <td>NA</td>\n",
              "      <td>Togo</td>\n",
              "    </tr>\n",
              "    <tr>\n",
              "      <th>3</th>\n",
              "      <td>A. Morin</td>\n",
              "      <td>Akata</td>\n",
              "      <td>1680</td>\n",
              "      <td>2015</td>\n",
              "      <td>70.0</td>\n",
              "      <td>France</td>\n",
              "      <td>3.50</td>\n",
              "      <td>NA</td>\n",
              "      <td>Togo</td>\n",
              "    </tr>\n",
              "    <tr>\n",
              "      <th>4</th>\n",
              "      <td>A. Morin</td>\n",
              "      <td>Quilla</td>\n",
              "      <td>1704</td>\n",
              "      <td>2015</td>\n",
              "      <td>70.0</td>\n",
              "      <td>France</td>\n",
              "      <td>3.50</td>\n",
              "      <td>NA</td>\n",
              "      <td>Peru</td>\n",
              "    </tr>\n",
              "  </tbody>\n",
              "</table>\n",
              "</div>"
            ],
            "text/plain": [
              "    Company Specific_Bean_Origin_or_Bar_Name   REF  Review_Date  \\\n",
              "0  A. Morin                      Agua Grande  1876         2016   \n",
              "1  A. Morin                            Kpime  1676         2015   \n",
              "2  A. Morin                           Atsane  1676         2015   \n",
              "3  A. Morin                            Akata  1680         2015   \n",
              "4  A. Morin                           Quilla  1704         2015   \n",
              "\n",
              "   Cocoa_Percentage Company_Location  Rating Bean_Type Broad_Bean_Origin  \n",
              "0              63.0           France    3.75        NA          Sao Tome  \n",
              "1              70.0           France    2.75        NA              Togo  \n",
              "2              70.0           France    3.00        NA              Togo  \n",
              "3              70.0           France    3.50        NA              Togo  \n",
              "4              70.0           France    3.50        NA              Peru  "
            ]
          },
          "execution_count": 11,
          "metadata": {},
          "output_type": "execute_result"
        }
      ],
      "source": [
        "df.head(5)"
      ]
    },
    {
      "cell_type": "markdown",
      "metadata": {
        "id": "IkG2PkbxHMkd"
      },
      "source": [
        "### Sprawdź czy puste komórki występują jednoszcześnie w zmiennej *Bean_Type* i *Broad_Bean_Origin*. Jesli tak, to policz ile jest takich wierszy i usuń całe wiersze dla tych przypadków"
      ]
    },
    {
      "cell_type": "code",
      "execution_count": 12,
      "metadata": {
        "id": "Zzgr5ZAPHakv"
      },
      "outputs": [
        {
          "name": "stdout",
          "output_type": "stream",
          "text": [
            "Usunięto 2 wierszy z pustymi wartościami\n"
          ]
        }
      ],
      "source": [
        "empty_rows = df[df['Bean_Type'].isna() & df['Broad_Bean_Origin'].isna()]\n",
        "df = df.dropna(subset=['Bean_Type', 'Broad_Bean_Origin'])\n",
        "\n",
        "liczba_pustych_wierszy = poczatkowa_liczba_wierszy - df.shape[0]\n",
        "print(f'Usunięto {liczba_pustych_wierszy} wierszy z pustymi wartościami')"
      ]
    },
    {
      "cell_type": "markdown",
      "metadata": {
        "id": "cTHeGHyMJ-GS"
      },
      "source": [
        "### Wyświetl ponownie kształ zbioru."
      ]
    },
    {
      "cell_type": "code",
      "execution_count": 13,
      "metadata": {
        "id": "Cu8GOf4VKIMS"
      },
      "outputs": [
        {
          "data": {
            "text/plain": [
              "(1793, 9)"
            ]
          },
          "execution_count": 13,
          "metadata": {},
          "output_type": "execute_result"
        }
      ],
      "source": [
        "df.shape"
      ]
    },
    {
      "cell_type": "markdown",
      "metadata": {
        "id": "4nk6NV--CbAG"
      },
      "source": [
        "### Dodaj do ramki danych nową kolumnę *Chocolate_Type*, która będzie zawierała informajce czy dana czekolada jest gorzka czy nie? W tym celu wykorzystaj zmienną *Cocoa_Percentage*."
      ]
    },
    {
      "cell_type": "code",
      "execution_count": 14,
      "metadata": {
        "id": "IwKcCykvZvVw"
      },
      "outputs": [],
      "source": [
        "df['Chocolate_Type'] = df['Cocoa_Percentage'].apply(lambda x: 'Gorzka' if x >= 70 else 'Niegorzka')\n"
      ]
    },
    {
      "cell_type": "code",
      "execution_count": 15,
      "metadata": {
        "id": "WtDzkp4CZ9Vs"
      },
      "outputs": [
        {
          "data": {
            "text/html": [
              "<div>\n",
              "<style scoped>\n",
              "    .dataframe tbody tr th:only-of-type {\n",
              "        vertical-align: middle;\n",
              "    }\n",
              "\n",
              "    .dataframe tbody tr th {\n",
              "        vertical-align: top;\n",
              "    }\n",
              "\n",
              "    .dataframe thead th {\n",
              "        text-align: right;\n",
              "    }\n",
              "</style>\n",
              "<table border=\"1\" class=\"dataframe\">\n",
              "  <thead>\n",
              "    <tr style=\"text-align: right;\">\n",
              "      <th></th>\n",
              "      <th>Company</th>\n",
              "      <th>Specific_Bean_Origin_or_Bar_Name</th>\n",
              "      <th>REF</th>\n",
              "      <th>Review_Date</th>\n",
              "      <th>Cocoa_Percentage</th>\n",
              "      <th>Company_Location</th>\n",
              "      <th>Rating</th>\n",
              "      <th>Bean_Type</th>\n",
              "      <th>Broad_Bean_Origin</th>\n",
              "      <th>Chocolate_Type</th>\n",
              "    </tr>\n",
              "  </thead>\n",
              "  <tbody>\n",
              "    <tr>\n",
              "      <th>0</th>\n",
              "      <td>A. Morin</td>\n",
              "      <td>Agua Grande</td>\n",
              "      <td>1876</td>\n",
              "      <td>2016</td>\n",
              "      <td>63.0</td>\n",
              "      <td>France</td>\n",
              "      <td>3.75</td>\n",
              "      <td>NA</td>\n",
              "      <td>Sao Tome</td>\n",
              "      <td>Niegorzka</td>\n",
              "    </tr>\n",
              "    <tr>\n",
              "      <th>1</th>\n",
              "      <td>A. Morin</td>\n",
              "      <td>Kpime</td>\n",
              "      <td>1676</td>\n",
              "      <td>2015</td>\n",
              "      <td>70.0</td>\n",
              "      <td>France</td>\n",
              "      <td>2.75</td>\n",
              "      <td>NA</td>\n",
              "      <td>Togo</td>\n",
              "      <td>Gorzka</td>\n",
              "    </tr>\n",
              "    <tr>\n",
              "      <th>2</th>\n",
              "      <td>A. Morin</td>\n",
              "      <td>Atsane</td>\n",
              "      <td>1676</td>\n",
              "      <td>2015</td>\n",
              "      <td>70.0</td>\n",
              "      <td>France</td>\n",
              "      <td>3.00</td>\n",
              "      <td>NA</td>\n",
              "      <td>Togo</td>\n",
              "      <td>Gorzka</td>\n",
              "    </tr>\n",
              "    <tr>\n",
              "      <th>3</th>\n",
              "      <td>A. Morin</td>\n",
              "      <td>Akata</td>\n",
              "      <td>1680</td>\n",
              "      <td>2015</td>\n",
              "      <td>70.0</td>\n",
              "      <td>France</td>\n",
              "      <td>3.50</td>\n",
              "      <td>NA</td>\n",
              "      <td>Togo</td>\n",
              "      <td>Gorzka</td>\n",
              "    </tr>\n",
              "    <tr>\n",
              "      <th>4</th>\n",
              "      <td>A. Morin</td>\n",
              "      <td>Quilla</td>\n",
              "      <td>1704</td>\n",
              "      <td>2015</td>\n",
              "      <td>70.0</td>\n",
              "      <td>France</td>\n",
              "      <td>3.50</td>\n",
              "      <td>NA</td>\n",
              "      <td>Peru</td>\n",
              "      <td>Gorzka</td>\n",
              "    </tr>\n",
              "  </tbody>\n",
              "</table>\n",
              "</div>"
            ],
            "text/plain": [
              "    Company Specific_Bean_Origin_or_Bar_Name   REF  Review_Date  \\\n",
              "0  A. Morin                      Agua Grande  1876         2016   \n",
              "1  A. Morin                            Kpime  1676         2015   \n",
              "2  A. Morin                           Atsane  1676         2015   \n",
              "3  A. Morin                            Akata  1680         2015   \n",
              "4  A. Morin                           Quilla  1704         2015   \n",
              "\n",
              "   Cocoa_Percentage Company_Location  Rating Bean_Type Broad_Bean_Origin  \\\n",
              "0              63.0           France    3.75        NA          Sao Tome   \n",
              "1              70.0           France    2.75        NA              Togo   \n",
              "2              70.0           France    3.00        NA              Togo   \n",
              "3              70.0           France    3.50        NA              Togo   \n",
              "4              70.0           France    3.50        NA              Peru   \n",
              "\n",
              "  Chocolate_Type  \n",
              "0      Niegorzka  \n",
              "1         Gorzka  \n",
              "2         Gorzka  \n",
              "3         Gorzka  \n",
              "4         Gorzka  "
            ]
          },
          "execution_count": 15,
          "metadata": {},
          "output_type": "execute_result"
        }
      ],
      "source": [
        "df.head(5)"
      ]
    },
    {
      "cell_type": "markdown",
      "metadata": {
        "id": "Snyh31uxb5Ju"
      },
      "source": [
        "### Dodaj zmienną kategoryczną *Rating_Grade* opisującą ocenę czekolady. Przyjmij następujące przedziały:\n",
        "System oceny smaków kakao:\n",
        "- 5 -  Elite (Przekraczanie poza zwykłe granice)\n",
        "- $<4;5)$ -  Premium (Doskonały rozwój smaku, charakteru i stylu)\n",
        "- $<3;4)$ - Satisfactory (3,0) do godnego pochwały (3,75) (dobrze wykonany, o specjalnych właściwościach)\n",
        "- $<2;3)$ - Disappointing (Zadowalający, ale zawiera co najmniej jedną istotną wadę)\n",
        "- $<1;2)$ - Unpleasant (przeważnie niesmaczny)"
      ]
    },
    {
      "cell_type": "code",
      "execution_count": 16,
      "metadata": {
        "id": "HmEBnHsMClP3"
      },
      "outputs": [],
      "source": [
        "rating_bins = [0, 2, 3, 4,4.999999, 5]\n",
        "rating_labels = ['Unpleasant', 'Disappointing', 'Satisfactory', 'Premium', 'Elite']\n",
        "\n",
        "df['Rating_Grade'] = pd.cut(df['Rating'], bins=rating_bins, labels=rating_labels, right=False, include_lowest=True)\n"
      ]
    },
    {
      "cell_type": "code",
      "execution_count": 17,
      "metadata": {
        "id": "AlPlU-W1DHQs"
      },
      "outputs": [
        {
          "data": {
            "text/html": [
              "<div>\n",
              "<style scoped>\n",
              "    .dataframe tbody tr th:only-of-type {\n",
              "        vertical-align: middle;\n",
              "    }\n",
              "\n",
              "    .dataframe tbody tr th {\n",
              "        vertical-align: top;\n",
              "    }\n",
              "\n",
              "    .dataframe thead th {\n",
              "        text-align: right;\n",
              "    }\n",
              "</style>\n",
              "<table border=\"1\" class=\"dataframe\">\n",
              "  <thead>\n",
              "    <tr style=\"text-align: right;\">\n",
              "      <th></th>\n",
              "      <th>Company</th>\n",
              "      <th>Specific_Bean_Origin_or_Bar_Name</th>\n",
              "      <th>REF</th>\n",
              "      <th>Review_Date</th>\n",
              "      <th>Cocoa_Percentage</th>\n",
              "      <th>Company_Location</th>\n",
              "      <th>Rating</th>\n",
              "      <th>Bean_Type</th>\n",
              "      <th>Broad_Bean_Origin</th>\n",
              "      <th>Chocolate_Type</th>\n",
              "      <th>Rating_Grade</th>\n",
              "    </tr>\n",
              "  </thead>\n",
              "  <tbody>\n",
              "    <tr>\n",
              "      <th>0</th>\n",
              "      <td>A. Morin</td>\n",
              "      <td>Agua Grande</td>\n",
              "      <td>1876</td>\n",
              "      <td>2016</td>\n",
              "      <td>63.0</td>\n",
              "      <td>France</td>\n",
              "      <td>3.75</td>\n",
              "      <td>NA</td>\n",
              "      <td>Sao Tome</td>\n",
              "      <td>Niegorzka</td>\n",
              "      <td>Satisfactory</td>\n",
              "    </tr>\n",
              "    <tr>\n",
              "      <th>1</th>\n",
              "      <td>A. Morin</td>\n",
              "      <td>Kpime</td>\n",
              "      <td>1676</td>\n",
              "      <td>2015</td>\n",
              "      <td>70.0</td>\n",
              "      <td>France</td>\n",
              "      <td>2.75</td>\n",
              "      <td>NA</td>\n",
              "      <td>Togo</td>\n",
              "      <td>Gorzka</td>\n",
              "      <td>Disappointing</td>\n",
              "    </tr>\n",
              "    <tr>\n",
              "      <th>2</th>\n",
              "      <td>A. Morin</td>\n",
              "      <td>Atsane</td>\n",
              "      <td>1676</td>\n",
              "      <td>2015</td>\n",
              "      <td>70.0</td>\n",
              "      <td>France</td>\n",
              "      <td>3.00</td>\n",
              "      <td>NA</td>\n",
              "      <td>Togo</td>\n",
              "      <td>Gorzka</td>\n",
              "      <td>Satisfactory</td>\n",
              "    </tr>\n",
              "    <tr>\n",
              "      <th>3</th>\n",
              "      <td>A. Morin</td>\n",
              "      <td>Akata</td>\n",
              "      <td>1680</td>\n",
              "      <td>2015</td>\n",
              "      <td>70.0</td>\n",
              "      <td>France</td>\n",
              "      <td>3.50</td>\n",
              "      <td>NA</td>\n",
              "      <td>Togo</td>\n",
              "      <td>Gorzka</td>\n",
              "      <td>Satisfactory</td>\n",
              "    </tr>\n",
              "    <tr>\n",
              "      <th>4</th>\n",
              "      <td>A. Morin</td>\n",
              "      <td>Quilla</td>\n",
              "      <td>1704</td>\n",
              "      <td>2015</td>\n",
              "      <td>70.0</td>\n",
              "      <td>France</td>\n",
              "      <td>3.50</td>\n",
              "      <td>NA</td>\n",
              "      <td>Peru</td>\n",
              "      <td>Gorzka</td>\n",
              "      <td>Satisfactory</td>\n",
              "    </tr>\n",
              "    <tr>\n",
              "      <th>5</th>\n",
              "      <td>A. Morin</td>\n",
              "      <td>Carenero</td>\n",
              "      <td>1315</td>\n",
              "      <td>2014</td>\n",
              "      <td>70.0</td>\n",
              "      <td>France</td>\n",
              "      <td>2.75</td>\n",
              "      <td>Criollo</td>\n",
              "      <td>Venezuela</td>\n",
              "      <td>Gorzka</td>\n",
              "      <td>Disappointing</td>\n",
              "    </tr>\n",
              "    <tr>\n",
              "      <th>6</th>\n",
              "      <td>A. Morin</td>\n",
              "      <td>Cuba</td>\n",
              "      <td>1315</td>\n",
              "      <td>2014</td>\n",
              "      <td>70.0</td>\n",
              "      <td>France</td>\n",
              "      <td>3.50</td>\n",
              "      <td>NA</td>\n",
              "      <td>Cuba</td>\n",
              "      <td>Gorzka</td>\n",
              "      <td>Satisfactory</td>\n",
              "    </tr>\n",
              "    <tr>\n",
              "      <th>7</th>\n",
              "      <td>A. Morin</td>\n",
              "      <td>Sur del Lago</td>\n",
              "      <td>1315</td>\n",
              "      <td>2014</td>\n",
              "      <td>70.0</td>\n",
              "      <td>France</td>\n",
              "      <td>3.50</td>\n",
              "      <td>Criollo</td>\n",
              "      <td>Venezuela</td>\n",
              "      <td>Gorzka</td>\n",
              "      <td>Satisfactory</td>\n",
              "    </tr>\n",
              "    <tr>\n",
              "      <th>8</th>\n",
              "      <td>A. Morin</td>\n",
              "      <td>Puerto Cabello</td>\n",
              "      <td>1319</td>\n",
              "      <td>2014</td>\n",
              "      <td>70.0</td>\n",
              "      <td>France</td>\n",
              "      <td>3.75</td>\n",
              "      <td>Criollo</td>\n",
              "      <td>Venezuela</td>\n",
              "      <td>Gorzka</td>\n",
              "      <td>Satisfactory</td>\n",
              "    </tr>\n",
              "    <tr>\n",
              "      <th>9</th>\n",
              "      <td>A. Morin</td>\n",
              "      <td>Pablino</td>\n",
              "      <td>1319</td>\n",
              "      <td>2014</td>\n",
              "      <td>70.0</td>\n",
              "      <td>France</td>\n",
              "      <td>4.00</td>\n",
              "      <td>NA</td>\n",
              "      <td>Peru</td>\n",
              "      <td>Gorzka</td>\n",
              "      <td>Premium</td>\n",
              "    </tr>\n",
              "  </tbody>\n",
              "</table>\n",
              "</div>"
            ],
            "text/plain": [
              "    Company Specific_Bean_Origin_or_Bar_Name   REF  Review_Date  \\\n",
              "0  A. Morin                      Agua Grande  1876         2016   \n",
              "1  A. Morin                            Kpime  1676         2015   \n",
              "2  A. Morin                           Atsane  1676         2015   \n",
              "3  A. Morin                            Akata  1680         2015   \n",
              "4  A. Morin                           Quilla  1704         2015   \n",
              "5  A. Morin                         Carenero  1315         2014   \n",
              "6  A. Morin                             Cuba  1315         2014   \n",
              "7  A. Morin                     Sur del Lago  1315         2014   \n",
              "8  A. Morin                   Puerto Cabello  1319         2014   \n",
              "9  A. Morin                          Pablino  1319         2014   \n",
              "\n",
              "   Cocoa_Percentage Company_Location  Rating Bean_Type Broad_Bean_Origin  \\\n",
              "0              63.0           France    3.75        NA          Sao Tome   \n",
              "1              70.0           France    2.75        NA              Togo   \n",
              "2              70.0           France    3.00        NA              Togo   \n",
              "3              70.0           France    3.50        NA              Togo   \n",
              "4              70.0           France    3.50        NA              Peru   \n",
              "5              70.0           France    2.75   Criollo         Venezuela   \n",
              "6              70.0           France    3.50        NA              Cuba   \n",
              "7              70.0           France    3.50   Criollo         Venezuela   \n",
              "8              70.0           France    3.75   Criollo         Venezuela   \n",
              "9              70.0           France    4.00        NA              Peru   \n",
              "\n",
              "  Chocolate_Type   Rating_Grade  \n",
              "0      Niegorzka   Satisfactory  \n",
              "1         Gorzka  Disappointing  \n",
              "2         Gorzka   Satisfactory  \n",
              "3         Gorzka   Satisfactory  \n",
              "4         Gorzka   Satisfactory  \n",
              "5         Gorzka  Disappointing  \n",
              "6         Gorzka   Satisfactory  \n",
              "7         Gorzka   Satisfactory  \n",
              "8         Gorzka   Satisfactory  \n",
              "9         Gorzka        Premium  "
            ]
          },
          "execution_count": 17,
          "metadata": {},
          "output_type": "execute_result"
        }
      ],
      "source": [
        "df.head(10)\n"
      ]
    },
    {
      "cell_type": "markdown",
      "metadata": {
        "id": "8NQoq5QwagTG"
      },
      "source": [
        "### Dla zmiennych numerycznych oblicz statystyki opisowe"
      ]
    },
    {
      "cell_type": "code",
      "execution_count": 18,
      "metadata": {
        "id": "T5QQZ7-BarCP"
      },
      "outputs": [
        {
          "data": {
            "text/html": [
              "<div>\n",
              "<style scoped>\n",
              "    .dataframe tbody tr th:only-of-type {\n",
              "        vertical-align: middle;\n",
              "    }\n",
              "\n",
              "    .dataframe tbody tr th {\n",
              "        vertical-align: top;\n",
              "    }\n",
              "\n",
              "    .dataframe thead th {\n",
              "        text-align: right;\n",
              "    }\n",
              "</style>\n",
              "<table border=\"1\" class=\"dataframe\">\n",
              "  <thead>\n",
              "    <tr style=\"text-align: right;\">\n",
              "      <th></th>\n",
              "      <th>REF</th>\n",
              "      <th>Review_Date</th>\n",
              "      <th>Cocoa_Percentage</th>\n",
              "      <th>Rating</th>\n",
              "    </tr>\n",
              "  </thead>\n",
              "  <tbody>\n",
              "    <tr>\n",
              "      <th>count</th>\n",
              "      <td>1793.000000</td>\n",
              "      <td>1793.000000</td>\n",
              "      <td>1793.000000</td>\n",
              "      <td>1793.000000</td>\n",
              "    </tr>\n",
              "    <tr>\n",
              "      <th>mean</th>\n",
              "      <td>1036.126046</td>\n",
              "      <td>2012.326269</td>\n",
              "      <td>71.699108</td>\n",
              "      <td>3.185862</td>\n",
              "    </tr>\n",
              "    <tr>\n",
              "      <th>std</th>\n",
              "      <td>553.128742</td>\n",
              "      <td>2.928666</td>\n",
              "      <td>6.326515</td>\n",
              "      <td>0.477668</td>\n",
              "    </tr>\n",
              "    <tr>\n",
              "      <th>min</th>\n",
              "      <td>5.000000</td>\n",
              "      <td>2006.000000</td>\n",
              "      <td>42.000000</td>\n",
              "      <td>1.000000</td>\n",
              "    </tr>\n",
              "    <tr>\n",
              "      <th>25%</th>\n",
              "      <td>576.000000</td>\n",
              "      <td>2010.000000</td>\n",
              "      <td>70.000000</td>\n",
              "      <td>3.000000</td>\n",
              "    </tr>\n",
              "    <tr>\n",
              "      <th>50%</th>\n",
              "      <td>1073.000000</td>\n",
              "      <td>2013.000000</td>\n",
              "      <td>70.000000</td>\n",
              "      <td>3.250000</td>\n",
              "    </tr>\n",
              "    <tr>\n",
              "      <th>75%</th>\n",
              "      <td>1502.000000</td>\n",
              "      <td>2015.000000</td>\n",
              "      <td>75.000000</td>\n",
              "      <td>3.500000</td>\n",
              "    </tr>\n",
              "    <tr>\n",
              "      <th>max</th>\n",
              "      <td>1952.000000</td>\n",
              "      <td>2017.000000</td>\n",
              "      <td>100.000000</td>\n",
              "      <td>5.000000</td>\n",
              "    </tr>\n",
              "  </tbody>\n",
              "</table>\n",
              "</div>"
            ],
            "text/plain": [
              "               REF  Review_Date  Cocoa_Percentage       Rating\n",
              "count  1793.000000  1793.000000       1793.000000  1793.000000\n",
              "mean   1036.126046  2012.326269         71.699108     3.185862\n",
              "std     553.128742     2.928666          6.326515     0.477668\n",
              "min       5.000000  2006.000000         42.000000     1.000000\n",
              "25%     576.000000  2010.000000         70.000000     3.000000\n",
              "50%    1073.000000  2013.000000         70.000000     3.250000\n",
              "75%    1502.000000  2015.000000         75.000000     3.500000\n",
              "max    1952.000000  2017.000000        100.000000     5.000000"
            ]
          },
          "execution_count": 18,
          "metadata": {},
          "output_type": "execute_result"
        }
      ],
      "source": [
        "df.describe()\n"
      ]
    },
    {
      "cell_type": "markdown",
      "metadata": {
        "id": "hwgXjXfZarZ9"
      },
      "source": [
        "### Dla zmiennych kategorycznych zlicz unikalne wartości"
      ]
    },
    {
      "cell_type": "code",
      "execution_count": 19,
      "metadata": {
        "id": "t4pQAE3Da6z9"
      },
      "outputs": [
        {
          "name": "stdout",
          "output_type": "stream",
          "text": [
            "Company                              416\n",
            "Specific_Bean_Origin_or_Bar_Name    1038\n",
            "Company_Location                      60\n",
            "Bean_Type                             41\n",
            "Broad_Bean_Origin                     99\n",
            "Chocolate_Type                         2\n",
            "Rating_Grade                           4\n",
            "dtype: int64\n"
          ]
        }
      ],
      "source": [
        "categorical_columns = ['Company', 'Specific_Bean_Origin_or_Bar_Name', 'Company_Location', 'Bean_Type', 'Broad_Bean_Origin', 'Chocolate_Type', 'Rating_Grade']\n",
        "\n",
        "unique_values = df[categorical_columns].nunique()\n",
        "print(unique_values)\n"
      ]
    },
    {
      "cell_type": "markdown",
      "metadata": {
        "id": "FUSjHKXTbhH9"
      },
      "source": [
        "### Policz średnią ocen dla czekolady mlecznej i gorzkiej (wykonaj pivot table lub tabelę grupującą)"
      ]
    },
    {
      "cell_type": "code",
      "execution_count": 20,
      "metadata": {
        "id": "vhn28sDvZX4I"
      },
      "outputs": [
        {
          "data": {
            "text/plain": [
              "Chocolate_Type\n",
              "Gorzka       3.185324\n",
              "Niegorzka    3.188262\n",
              "Name: Rating, dtype: float64"
            ]
          },
          "execution_count": 20,
          "metadata": {},
          "output_type": "execute_result"
        }
      ],
      "source": [
        "chocolate_avg_ratings = df.groupby('Chocolate_Type')['Rating'].mean()\n",
        "chocolate_avg_ratings"
      ]
    },
    {
      "cell_type": "markdown",
      "metadata": {
        "id": "25Nr-gtBV66N"
      },
      "source": [
        "### Przygoyuj tablę raportującą która zliczy ilość unikalnych typów ocen () w poszczególnych latah dla czekolady mlecznej i gorzkiej\n",
        "![image.png](data:image/png;base64,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)"
      ]
    },
    {
      "cell_type": "code",
      "execution_count": 21,
      "metadata": {
        "id": "vngHb9RbV6eb"
      },
      "outputs": [
        {
          "name": "stderr",
          "output_type": "stream",
          "text": [
            "C:\\Users\\patry\\AppData\\Local\\Temp\\ipykernel_7368\\806255379.py:5: FutureWarning: The default value of observed=False is deprecated and will change to observed=True in a future version of pandas. Specify observed=False to silence this warning and retain the current behavior\n",
            "  pivot_table_result = df.pivot_table(values='Chocolate_Type', index='Review_Date', columns=['Gorzka_Niegorzka', 'Rating_Grade'], aggfunc='count', fill_value=0)\n"
          ]
        },
        {
          "data": {
            "text/html": [
              "<div>\n",
              "<style scoped>\n",
              "    .dataframe tbody tr th:only-of-type {\n",
              "        vertical-align: middle;\n",
              "    }\n",
              "\n",
              "    .dataframe tbody tr th {\n",
              "        vertical-align: top;\n",
              "    }\n",
              "\n",
              "    .dataframe thead tr th {\n",
              "        text-align: left;\n",
              "    }\n",
              "\n",
              "    .dataframe thead tr:last-of-type th {\n",
              "        text-align: right;\n",
              "    }\n",
              "</style>\n",
              "<table border=\"1\" class=\"dataframe\">\n",
              "  <thead>\n",
              "    <tr>\n",
              "      <th>Gorzka_Niegorzka</th>\n",
              "      <th colspan=\"5\" halign=\"left\">Niegorzka</th>\n",
              "    </tr>\n",
              "    <tr>\n",
              "      <th>Rating_Grade</th>\n",
              "      <th>Unpleasant</th>\n",
              "      <th>Disappointing</th>\n",
              "      <th>Satisfactory</th>\n",
              "      <th>Premium</th>\n",
              "      <th>Elite</th>\n",
              "    </tr>\n",
              "    <tr>\n",
              "      <th>Review_Date</th>\n",
              "      <th></th>\n",
              "      <th></th>\n",
              "      <th></th>\n",
              "      <th></th>\n",
              "      <th></th>\n",
              "    </tr>\n",
              "  </thead>\n",
              "  <tbody>\n",
              "    <tr>\n",
              "      <th>2006</th>\n",
              "      <td>3</td>\n",
              "      <td>15</td>\n",
              "      <td>38</td>\n",
              "      <td>15</td>\n",
              "      <td>0</td>\n",
              "    </tr>\n",
              "    <tr>\n",
              "      <th>2007</th>\n",
              "      <td>3</td>\n",
              "      <td>14</td>\n",
              "      <td>48</td>\n",
              "      <td>11</td>\n",
              "      <td>0</td>\n",
              "    </tr>\n",
              "    <tr>\n",
              "      <th>2008</th>\n",
              "      <td>2</td>\n",
              "      <td>34</td>\n",
              "      <td>54</td>\n",
              "      <td>3</td>\n",
              "      <td>0</td>\n",
              "    </tr>\n",
              "    <tr>\n",
              "      <th>2009</th>\n",
              "      <td>2</td>\n",
              "      <td>33</td>\n",
              "      <td>84</td>\n",
              "      <td>4</td>\n",
              "      <td>0</td>\n",
              "    </tr>\n",
              "    <tr>\n",
              "      <th>2010</th>\n",
              "      <td>2</td>\n",
              "      <td>28</td>\n",
              "      <td>78</td>\n",
              "      <td>3</td>\n",
              "      <td>0</td>\n",
              "    </tr>\n",
              "    <tr>\n",
              "      <th>2011</th>\n",
              "      <td>2</td>\n",
              "      <td>35</td>\n",
              "      <td>113</td>\n",
              "      <td>14</td>\n",
              "      <td>0</td>\n",
              "    </tr>\n",
              "    <tr>\n",
              "      <th>2012</th>\n",
              "      <td>2</td>\n",
              "      <td>49</td>\n",
              "      <td>132</td>\n",
              "      <td>11</td>\n",
              "      <td>0</td>\n",
              "    </tr>\n",
              "    <tr>\n",
              "      <th>2013</th>\n",
              "      <td>1</td>\n",
              "      <td>48</td>\n",
              "      <td>122</td>\n",
              "      <td>13</td>\n",
              "      <td>0</td>\n",
              "    </tr>\n",
              "    <tr>\n",
              "      <th>2014</th>\n",
              "      <td>0</td>\n",
              "      <td>62</td>\n",
              "      <td>179</td>\n",
              "      <td>6</td>\n",
              "      <td>0</td>\n",
              "    </tr>\n",
              "    <tr>\n",
              "      <th>2015</th>\n",
              "      <td>0</td>\n",
              "      <td>55</td>\n",
              "      <td>222</td>\n",
              "      <td>8</td>\n",
              "      <td>0</td>\n",
              "    </tr>\n",
              "    <tr>\n",
              "      <th>2016</th>\n",
              "      <td>0</td>\n",
              "      <td>54</td>\n",
              "      <td>156</td>\n",
              "      <td>9</td>\n",
              "      <td>0</td>\n",
              "    </tr>\n",
              "    <tr>\n",
              "      <th>2017</th>\n",
              "      <td>0</td>\n",
              "      <td>4</td>\n",
              "      <td>20</td>\n",
              "      <td>0</td>\n",
              "      <td>0</td>\n",
              "    </tr>\n",
              "  </tbody>\n",
              "</table>\n",
              "</div>"
            ],
            "text/plain": [
              "Gorzka_Niegorzka  Niegorzka                                         \n",
              "Rating_Grade     Unpleasant Disappointing Satisfactory Premium Elite\n",
              "Review_Date                                                         \n",
              "2006                      3            15           38      15     0\n",
              "2007                      3            14           48      11     0\n",
              "2008                      2            34           54       3     0\n",
              "2009                      2            33           84       4     0\n",
              "2010                      2            28           78       3     0\n",
              "2011                      2            35          113      14     0\n",
              "2012                      2            49          132      11     0\n",
              "2013                      1            48          122      13     0\n",
              "2014                      0            62          179       6     0\n",
              "2015                      0            55          222       8     0\n",
              "2016                      0            54          156       9     0\n",
              "2017                      0             4           20       0     0"
            ]
          },
          "execution_count": 21,
          "metadata": {},
          "output_type": "execute_result"
        }
      ],
      "source": [
        "# Dodanie nowej kolumny dla kategorii gorzkiej i niegorzkiej\n",
        "df['Gorzka_Niegorzka'] = df['Chocolate_Type'].apply(lambda x: 'Gorzka' if x == 'gorzka' else 'Niegorzka')\n",
        "\n",
        "# Tworzenie tabeli pivotującej\n",
        "pivot_table_result = df.pivot_table(values='Chocolate_Type', index='Review_Date', columns=['Gorzka_Niegorzka', 'Rating_Grade'], aggfunc='count', fill_value=0)\n",
        "pivot_table_result"
      ]
    },
    {
      "cell_type": "code",
      "execution_count": null,
      "metadata": {
        "id": "gfRCHraYQ5_u"
      },
      "outputs": [],
      "source": []
    },
    {
      "cell_type": "code",
      "execution_count": null,
      "metadata": {
        "id": "X1Y7RbDuW2Zp"
      },
      "outputs": [],
      "source": []
    },
    {
      "cell_type": "markdown",
      "metadata": {
        "id": "O_z45k_1ZyFr"
      },
      "source": [
        "## Zapisz plik do pdf (Plik -> Drukuj -> PDF) i umieśc go na upelu."
      ]
    },
    {
      "cell_type": "code",
      "execution_count": null,
      "metadata": {
        "id": "nVlfoZzkW2WL"
      },
      "outputs": [],
      "source": []
    },
    {
      "cell_type": "code",
      "execution_count": null,
      "metadata": {
        "id": "asRq_yItCZu4"
      },
      "outputs": [],
      "source": []
    }
  ],
  "metadata": {
    "colab": {
      "provenance": []
    },
    "kernelspec": {
      "display_name": "Python 3",
      "name": "python3"
    },
    "language_info": {
      "codemirror_mode": {
        "name": "ipython",
        "version": 3
      },
      "file_extension": ".py",
      "mimetype": "text/x-python",
      "name": "python",
      "nbconvert_exporter": "python",
      "pygments_lexer": "ipython3",
      "version": "3.12.2"
    }
  },
  "nbformat": 4,
  "nbformat_minor": 0
}
